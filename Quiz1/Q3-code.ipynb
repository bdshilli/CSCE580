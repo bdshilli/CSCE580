{
 "cells": [
  {
   "cell_type": "code",
   "execution_count": null,
   "id": "ac521736",
   "metadata": {},
   "outputs": [
    {
     "name": "stderr",
     "output_type": "stream",
     "text": [
      "Downloading...\n",
      "From: https://drive.google.com/uc?id=1TMto04p1s_ntL9PZdygdV22S_RjAqLiy\n",
      "To: /home/bdshilli/Development/Github/CSCE580/Quiz1/temp_folder/data.csv\n",
      "100%|██████████| 167k/167k [00:00<00:00, 2.33MB/s]"
     ]
    },
    {
     "name": "stdout",
     "output_type": "stream",
     "text": [
      "         XREF ID         DISPATCH UNIT DISPATCH CREATED DATE INCIDENT NUMBER  \\\n",
      "0     2025107105  BAT111, E171, LDR175         3/24/25 15:54         25-1368   \n",
      "1     2025107223                BAT111         3/24/25 17:28         25-1369   \n",
      "2     2025107415                  E171         3/24/25 21:03         25-1370   \n",
      "3     2025107411                  E171         3/24/25 21:03         25-1371   \n",
      "4     2025107384  BAT111, E171, LDR175         3/24/25 21:43         25-1374   \n",
      "...          ...                   ...                   ...             ...   \n",
      "2195  2025326268                LDR175         8/31/25 12:28         25-4052   \n",
      "2196  2025326380                LDR175         8/31/25 14:18         25-4053   \n",
      "2197  2025326497    BAT111, E171, E172         8/31/25 15:53         25-4054   \n",
      "2198  2025326555                  E171         8/31/25 16:48         25-4055   \n",
      "2199  2025326922                LDR175         8/31/25 23:03         25-4056   \n",
      "\n",
      "     1ST UNIT ON SCENE ALARM DATE TIME CALL COMPLETE SHIFT  \n",
      "0               BC-111   3/24/25 15:46  9/5/25 16:20     C  \n",
      "1               BC-111   3/24/25 17:23  9/5/25 17:55     C  \n",
      "2                E-171   3/24/25 21:02  9/4/25 21:09     C  \n",
      "3                  NaN   3/24/25 20:58  9/4/25 21:02     C  \n",
      "4               BC-111   3/24/25 20:30  9/4/25 21:36     C  \n",
      "...                ...             ...           ...   ...  \n",
      "2195             L-175   8/31/25 12:24  9/5/25 12:48     B  \n",
      "2196             L-175   8/31/25 14:15  9/5/25 14:31     B  \n",
      "2197             E-171   8/31/25 15:50  9/5/25 16:06     B  \n",
      "2198             E-171   8/31/25 16:42  9/5/25 16:52     B  \n",
      "2199             L-175   8/31/25 22:58  9/4/25 23:05     B  \n",
      "\n",
      "[2200 rows x 8 columns]\n"
     ]
    },
    {
     "name": "stderr",
     "output_type": "stream",
     "text": [
      "\n"
     ]
    }
   ],
   "source": [
    "import gdown\n",
    "import pandas\n",
    "import os\n",
    "\n",
    "file_id = \"1TMto04p1s_ntL9PZdygdV22S_RjAqLiy\"\n",
    "\n",
    "temp_dir = 'temp_folder'\n",
    "os.makedirs(temp_dir, exist_ok=True)\n",
    "\n",
    "try:\n",
    "    gdown.download(id=file_id, output=temp_dir+'/data.csv', quiet=False)\n",
    "except Exception as e:\n",
    "    print(f\"Error downloading file: {e}\")\n",
    "\n",
    "data = pandas.read_csv(temp_dir+'/data.csv')\n",
    "\n",
    "\n",
    "if os.path.exists(temp_dir):\n",
    "        for f in os.listdir(temp_dir):\n",
    "            os.remove(os.path.join(temp_dir, f))\n",
    "        os.rmdir(temp_dir)"
   ]
  }
 ],
 "metadata": {
  "kernelspec": {
   "display_name": ".venv",
   "language": "python",
   "name": "python3"
  },
  "language_info": {
   "codemirror_mode": {
    "name": "ipython",
    "version": 3
   },
   "file_extension": ".py",
   "mimetype": "text/x-python",
   "name": "python",
   "nbconvert_exporter": "python",
   "pygments_lexer": "ipython3",
   "version": "3.12.7"
  }
 },
 "nbformat": 4,
 "nbformat_minor": 5
}
